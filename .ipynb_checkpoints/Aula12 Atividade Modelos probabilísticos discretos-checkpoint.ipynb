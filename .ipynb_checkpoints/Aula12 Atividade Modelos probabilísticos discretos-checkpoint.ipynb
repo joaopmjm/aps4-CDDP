{
 "cells": [
  {
   "cell_type": "markdown",
   "metadata": {},
   "source": [
    " ___\n",
    "# Atividade: Modelos probabilísticos discretos\n",
    "___\n",
    "\n",
    "## Aula 12\n",
    "\n",
    "**Referência de Leitura:**\n",
    "1. Magalhães e Lima (7ª. Edição): Seções 3.2 e 3.3\n",
    "\n",
    "**Hoje:**\n",
    "1.\tDescrever modelos discretos quanto aos resultados teóricos.\n",
    "2.\tExplicar a utilização de modelos probabilísticos no contexto da literatura estatística.\n",
    "3.\tContrastar resultados teóricos e empíricos.\n",
    "4.\tFechamento do conteúdo.\n",
    "\n",
    "**Próxima aula:**\n",
    "1. Leitura prévia necessária: Magalhães e Lima (7ª. Edição): Capítulo 6 - Seção 6.1.\n",
    "\n",
    "___"
   ]
  },
  {
   "cell_type": "code",
   "execution_count": 1,
   "metadata": {
    "collapsed": true
   },
   "outputs": [],
   "source": [
    "%matplotlib inline\n",
    "import pandas as pd\n",
    "import matplotlib.pyplot as plt\n",
    "\n",
    "from scipy.stats import binom #importa apenas as funções de estatísticas da biblioteca SciPy.\n",
    "import itertools #importante para gerar todos os resultados possíveis!!\n"
   ]
  },
  {
   "cell_type": "markdown",
   "metadata": {},
   "source": [
    "___\n",
    "## <font color='blue'>Exercício 1</font>\n",
    "\n",
    "### <font color='red'>**Publicar no github até dia 10/04 INDIVIDUAL **</font>\n",
    "\n",
    "\n",
    "#### Este exercício irá explorar  construção de árvore de probabilidades com eventos e construção da distribuição de probabilidades de uma variável aleatória discreta. Ainda, irá explorar o modelo de distribuição probabilística Binomial\n",
    "\n",
    "Um resistor de 100K Ohms comprado na Santa Efigênia tem probabilidade de falha de 5%, segundo um fabricante ruim.\n",
    "\n",
    "Ainda, por suposição, admita que os resistores falhem de forma independente entre si.\n",
    "\n",
    "Um aluno de engenharia compra um pacote contendo $n$ resistores.\n",
    "\n",
    "1. Assuma $n=3$ e faça os itens a seguir.\n",
    "  1. Monte o espaço amostral que combine todos os resultados possíveis de Falha e não Falha desses $n$ resistores. Ainda, calcule a probabilidade de cada resultado do espaço amostral acontecer.\n",
    "  2. Se $Y$ representa o número de resistores que falham em um pacotinho com $n$ resistores, então construa a distribuição de probabilidades de $Y$.\n",
    "  3. Calcule a média e o desvio padrão de $Y$. Interprete os resultados.\n",
    "  4. Utilizando o modelo probabilístico da distribuição Binomial, encontre a distribuição de probabilidades de cada possível valor de $Y$. Calcule também $E(Y)$ e $Var(Y)$. Compare com as distribuições de probabilidades obtidas nos itens anteriores e discuta porque esses valores são iguais ou diferentes!\n",
    "   \n",
    "2. Assuma $n=7$ e repita os itens A) a D) anteriores. No caso de $n=7$ ou maiores quantidades de resistores em um pacotinho, qual a viabilidade de construir a distribuição de probabilidades do número de resistores com defeitos quando $n$ não é pequeno seguindo os itens de A) a C)?\n",
    " \n",
    "3. Com $n=100$, por exemplo, é extremamente inviável a construção de árvore de probabilidades até mesmo utilizando a poderosa ferramenta Python. \n",
    "  1. No caso assuma $n=100$ e repita o item 1.D) anterior. \n",
    "  2. Ainda, calcule a probabilidade de, em um pacote com 100 resistores, pelo menos a metade deles apresentarem falha?\n",
    "\n",
    "\n",
    "A seguir, um resumo sobre o modelo teórico Binomial!    \n",
    "> \n",
    "\n",
    "> **DISTRIBUIÇÃO BINOMIAL - TEORIA:**\n",
    "\n",
    "> É responsável por modelar uma variável $Y$ definida pelo Número de sucessos em $n$ tentativas, cuja probabilidade de sucesso é dada por $p$. Assim, dizemos que $Y$~$Bin(n,p)$ e lê-se: $Y$ segue uma distribuição binomial com $n$ tentativas e $p$ como probabilidade de sucesso. \n",
    "\n",
    "> A função de probabilidade nesse caso é dada por:\n",
    "$P(Y=y)=\\left(\n",
    "\\begin{array}{c}\n",
    "    n \\\\\n",
    "    y\n",
    "\\end{array}\\right) p^y (1-p)^{(n-y)}$\n",
    "\n",
    "> Para um experimento ter as probabilidade dos números de sucessos modeladas por uma distribuição Binomial, o mesmo precisa ter as seguintes propriedades:\n",
    "* é uma contagem de $n$ repetições (ou tentativas ou ensaios) idênticas;\n",
    "* cada repetição tem apenas 2 resultados possíveis: um é denominado sucesso e o outro, fracasso;\n",
    "* a probabilidade de sucesso para cada ensaio é denominada $p$ e será constante em cada repetição. Então, a probabilidade de fracasso $(1-p)$ também não varia de tentativa para tentativa;\n",
    "* As tentativas são independentes.\n",
    "\n",
    "\n",
    "> **DISTRIBUIÇÃO BINOMIAL - PYTHON:** <sup> [https://en.wikipedia.org/wiki/SciPy]\n",
    "\n",
    "> Algumas funções úteis para desenvolver seu código: <sup> [http://docs.scipy.org/doc/scipy-0.16.1/reference/generated/scipy.stats.binom.html]\n",
    "* $P(Y=y)$: `stats.binom.pmf(y, n, p)`\n",
    "* $P(Y\\leq y)$: `stats.binom.cdf(y, n, p)`\n",
    "* $E(Y)$ e $Var(Y)$: `stats.binom.stats(n, p, moments='mv')`\n",
    "\n"
   ]
  },
  {
   "cell_type": "code",
   "execution_count": 2,
   "metadata": {},
   "outputs": [
    {
     "data": {
      "text/plain": [
       "[('S', 'S', 'S'),\n",
       " ('S', 'S', 'F'),\n",
       " ('S', 'F', 'S'),\n",
       " ('S', 'F', 'F'),\n",
       " ('F', 'S', 'S'),\n",
       " ('F', 'S', 'F'),\n",
       " ('F', 'F', 'S'),\n",
       " ('F', 'F', 'F')]"
      ]
     },
     "execution_count": 2,
     "metadata": {},
     "output_type": "execute_result"
    }
   ],
   "source": [
    "#item 1\n",
    "n=3\n",
    "prob = {\"S\": 0.2, \"F\":0.8}\n",
    "possibilidades = [\"S\", \"F\"]\n",
    "arranjos = itertools.product(possibilidades, repeat=n)\n",
    "espaco_amostral = list(arranjos)\n",
    "espaco_amostral\n"
   ]
  },
  {
   "cell_type": "code",
   "execution_count": 3,
   "metadata": {},
   "outputs": [
    {
     "name": "stdout",
     "output_type": "stream",
     "text": [
      "Probabilidade de  ('S', 'S', 'S')  é igual a  0.00800\n",
      "Probabilidade de  ('S', 'S', 'F')  é igual a  0.03200\n",
      "Probabilidade de  ('S', 'F', 'S')  é igual a  0.03200\n",
      "Probabilidade de  ('S', 'F', 'F')  é igual a  0.12800\n",
      "Probabilidade de  ('F', 'S', 'S')  é igual a  0.03200\n",
      "Probabilidade de  ('F', 'S', 'F')  é igual a  0.12800\n",
      "Probabilidade de  ('F', 'F', 'S')  é igual a  0.12800\n",
      "Probabilidade de  ('F', 'F', 'F')  é igual a  0.51200\n"
     ]
    }
   ],
   "source": [
    "# item 1\n",
    "prob_linhas = []\n",
    "\n",
    "for res in espaco_amostral:\n",
    "    p = 1.0\n",
    "    for e in res:\n",
    "        p*=prob[e]\n",
    "    prob_linhas.append(p)\n",
    "    print(\"Probabilidade de \",res,\" é igual a \",\"%3.5f\"%p)"
   ]
  },
  {
   "cell_type": "code",
   "execution_count": 4,
   "metadata": {},
   "outputs": [
    {
     "data": {
      "text/plain": [
       "'1.00000'"
      ]
     },
     "execution_count": 4,
     "metadata": {},
     "output_type": "execute_result"
    }
   ],
   "source": [
    "#item 1\n",
    "\"%3.5f\"%sum(prob_linhas)"
   ]
  },
  {
   "cell_type": "code",
   "execution_count": 5,
   "metadata": {},
   "outputs": [
    {
     "data": {
      "text/plain": [
       "0.15387982323878596"
      ]
     },
     "execution_count": 5,
     "metadata": {},
     "output_type": "execute_result"
    }
   ],
   "source": [
    "#item 1 Média e Desvio Padrão4\n",
    "\n",
    "prob_media = float(\"%3.5f\"%sum(prob_linhas))/len(prob_linhas)\n",
    "var = 0\n",
    "for i in prob_linhas:\n",
    "    var += (i - prob_media)**2\n",
    "var = var/len(prob_linhas)\n",
    "dp = var**(1/2)\n",
    "dp"
   ]
  },
  {
   "cell_type": "code",
   "execution_count": 6,
   "metadata": {},
   "outputs": [
    {
     "name": "stdout",
     "output_type": "stream",
     "text": [
      "0.15000000000000002\n",
      "0.14250000000000002\n",
      "2.3841582427170787\n",
      "5.017543859649122\n"
     ]
    }
   ],
   "source": [
    "#item 1\n",
    "p = 0.05\n",
    "mean, var, assimetria, kurtose = binom.stats(n, p, moments='mvsk')\n",
    "print(mean)\n",
    "print(var)\n",
    "print(assimetria)\n",
    "print(kurtose)"
   ]
  },
  {
   "cell_type": "code",
   "execution_count": 7,
   "metadata": {},
   "outputs": [
    {
     "name": "stdout",
     "output_type": "stream",
     "text": [
      "[('S', 'S', 'S', 'S', 'S', 'S', 'S'), ('S', 'S', 'S', 'S', 'S', 'S', 'F'), ('S', 'S', 'S', 'S', 'S', 'F', 'S'), ('S', 'S', 'S', 'S', 'S', 'F', 'F'), ('S', 'S', 'S', 'S', 'F', 'S', 'S'), ('S', 'S', 'S', 'S', 'F', 'S', 'F'), ('S', 'S', 'S', 'S', 'F', 'F', 'S'), ('S', 'S', 'S', 'S', 'F', 'F', 'F'), ('S', 'S', 'S', 'F', 'S', 'S', 'S'), ('S', 'S', 'S', 'F', 'S', 'S', 'F'), ('S', 'S', 'S', 'F', 'S', 'F', 'S'), ('S', 'S', 'S', 'F', 'S', 'F', 'F'), ('S', 'S', 'S', 'F', 'F', 'S', 'S'), ('S', 'S', 'S', 'F', 'F', 'S', 'F'), ('S', 'S', 'S', 'F', 'F', 'F', 'S'), ('S', 'S', 'S', 'F', 'F', 'F', 'F'), ('S', 'S', 'F', 'S', 'S', 'S', 'S'), ('S', 'S', 'F', 'S', 'S', 'S', 'F'), ('S', 'S', 'F', 'S', 'S', 'F', 'S'), ('S', 'S', 'F', 'S', 'S', 'F', 'F'), ('S', 'S', 'F', 'S', 'F', 'S', 'S'), ('S', 'S', 'F', 'S', 'F', 'S', 'F'), ('S', 'S', 'F', 'S', 'F', 'F', 'S'), ('S', 'S', 'F', 'S', 'F', 'F', 'F'), ('S', 'S', 'F', 'F', 'S', 'S', 'S'), ('S', 'S', 'F', 'F', 'S', 'S', 'F'), ('S', 'S', 'F', 'F', 'S', 'F', 'S'), ('S', 'S', 'F', 'F', 'S', 'F', 'F'), ('S', 'S', 'F', 'F', 'F', 'S', 'S'), ('S', 'S', 'F', 'F', 'F', 'S', 'F'), ('S', 'S', 'F', 'F', 'F', 'F', 'S'), ('S', 'S', 'F', 'F', 'F', 'F', 'F'), ('S', 'F', 'S', 'S', 'S', 'S', 'S'), ('S', 'F', 'S', 'S', 'S', 'S', 'F'), ('S', 'F', 'S', 'S', 'S', 'F', 'S'), ('S', 'F', 'S', 'S', 'S', 'F', 'F'), ('S', 'F', 'S', 'S', 'F', 'S', 'S'), ('S', 'F', 'S', 'S', 'F', 'S', 'F'), ('S', 'F', 'S', 'S', 'F', 'F', 'S'), ('S', 'F', 'S', 'S', 'F', 'F', 'F'), ('S', 'F', 'S', 'F', 'S', 'S', 'S'), ('S', 'F', 'S', 'F', 'S', 'S', 'F'), ('S', 'F', 'S', 'F', 'S', 'F', 'S'), ('S', 'F', 'S', 'F', 'S', 'F', 'F'), ('S', 'F', 'S', 'F', 'F', 'S', 'S'), ('S', 'F', 'S', 'F', 'F', 'S', 'F'), ('S', 'F', 'S', 'F', 'F', 'F', 'S'), ('S', 'F', 'S', 'F', 'F', 'F', 'F'), ('S', 'F', 'F', 'S', 'S', 'S', 'S'), ('S', 'F', 'F', 'S', 'S', 'S', 'F'), ('S', 'F', 'F', 'S', 'S', 'F', 'S'), ('S', 'F', 'F', 'S', 'S', 'F', 'F'), ('S', 'F', 'F', 'S', 'F', 'S', 'S'), ('S', 'F', 'F', 'S', 'F', 'S', 'F'), ('S', 'F', 'F', 'S', 'F', 'F', 'S'), ('S', 'F', 'F', 'S', 'F', 'F', 'F'), ('S', 'F', 'F', 'F', 'S', 'S', 'S'), ('S', 'F', 'F', 'F', 'S', 'S', 'F'), ('S', 'F', 'F', 'F', 'S', 'F', 'S'), ('S', 'F', 'F', 'F', 'S', 'F', 'F'), ('S', 'F', 'F', 'F', 'F', 'S', 'S'), ('S', 'F', 'F', 'F', 'F', 'S', 'F'), ('S', 'F', 'F', 'F', 'F', 'F', 'S'), ('S', 'F', 'F', 'F', 'F', 'F', 'F'), ('F', 'S', 'S', 'S', 'S', 'S', 'S'), ('F', 'S', 'S', 'S', 'S', 'S', 'F'), ('F', 'S', 'S', 'S', 'S', 'F', 'S'), ('F', 'S', 'S', 'S', 'S', 'F', 'F'), ('F', 'S', 'S', 'S', 'F', 'S', 'S'), ('F', 'S', 'S', 'S', 'F', 'S', 'F'), ('F', 'S', 'S', 'S', 'F', 'F', 'S'), ('F', 'S', 'S', 'S', 'F', 'F', 'F'), ('F', 'S', 'S', 'F', 'S', 'S', 'S'), ('F', 'S', 'S', 'F', 'S', 'S', 'F'), ('F', 'S', 'S', 'F', 'S', 'F', 'S'), ('F', 'S', 'S', 'F', 'S', 'F', 'F'), ('F', 'S', 'S', 'F', 'F', 'S', 'S'), ('F', 'S', 'S', 'F', 'F', 'S', 'F'), ('F', 'S', 'S', 'F', 'F', 'F', 'S'), ('F', 'S', 'S', 'F', 'F', 'F', 'F'), ('F', 'S', 'F', 'S', 'S', 'S', 'S'), ('F', 'S', 'F', 'S', 'S', 'S', 'F'), ('F', 'S', 'F', 'S', 'S', 'F', 'S'), ('F', 'S', 'F', 'S', 'S', 'F', 'F'), ('F', 'S', 'F', 'S', 'F', 'S', 'S'), ('F', 'S', 'F', 'S', 'F', 'S', 'F'), ('F', 'S', 'F', 'S', 'F', 'F', 'S'), ('F', 'S', 'F', 'S', 'F', 'F', 'F'), ('F', 'S', 'F', 'F', 'S', 'S', 'S'), ('F', 'S', 'F', 'F', 'S', 'S', 'F'), ('F', 'S', 'F', 'F', 'S', 'F', 'S'), ('F', 'S', 'F', 'F', 'S', 'F', 'F'), ('F', 'S', 'F', 'F', 'F', 'S', 'S'), ('F', 'S', 'F', 'F', 'F', 'S', 'F'), ('F', 'S', 'F', 'F', 'F', 'F', 'S'), ('F', 'S', 'F', 'F', 'F', 'F', 'F'), ('F', 'F', 'S', 'S', 'S', 'S', 'S'), ('F', 'F', 'S', 'S', 'S', 'S', 'F'), ('F', 'F', 'S', 'S', 'S', 'F', 'S'), ('F', 'F', 'S', 'S', 'S', 'F', 'F'), ('F', 'F', 'S', 'S', 'F', 'S', 'S'), ('F', 'F', 'S', 'S', 'F', 'S', 'F'), ('F', 'F', 'S', 'S', 'F', 'F', 'S'), ('F', 'F', 'S', 'S', 'F', 'F', 'F'), ('F', 'F', 'S', 'F', 'S', 'S', 'S'), ('F', 'F', 'S', 'F', 'S', 'S', 'F'), ('F', 'F', 'S', 'F', 'S', 'F', 'S'), ('F', 'F', 'S', 'F', 'S', 'F', 'F'), ('F', 'F', 'S', 'F', 'F', 'S', 'S'), ('F', 'F', 'S', 'F', 'F', 'S', 'F'), ('F', 'F', 'S', 'F', 'F', 'F', 'S'), ('F', 'F', 'S', 'F', 'F', 'F', 'F'), ('F', 'F', 'F', 'S', 'S', 'S', 'S'), ('F', 'F', 'F', 'S', 'S', 'S', 'F'), ('F', 'F', 'F', 'S', 'S', 'F', 'S'), ('F', 'F', 'F', 'S', 'S', 'F', 'F'), ('F', 'F', 'F', 'S', 'F', 'S', 'S'), ('F', 'F', 'F', 'S', 'F', 'S', 'F'), ('F', 'F', 'F', 'S', 'F', 'F', 'S'), ('F', 'F', 'F', 'S', 'F', 'F', 'F'), ('F', 'F', 'F', 'F', 'S', 'S', 'S'), ('F', 'F', 'F', 'F', 'S', 'S', 'F'), ('F', 'F', 'F', 'F', 'S', 'F', 'S'), ('F', 'F', 'F', 'F', 'S', 'F', 'F'), ('F', 'F', 'F', 'F', 'F', 'S', 'S'), ('F', 'F', 'F', 'F', 'F', 'S', 'F'), ('F', 'F', 'F', 'F', 'F', 'F', 'S'), ('F', 'F', 'F', 'F', 'F', 'F', 'F')]\n"
     ]
    }
   ],
   "source": [
    "#item 2\n",
    "n=7\n",
    "prob = {\"S\": 0.2, \"F\":0.8}\n",
    "possibilidades = [\"S\", \"F\"]\n",
    "arranjos = itertools.product(possibilidades, repeat=n)\n",
    "espaco_amostral = list(arranjos)\n",
    "print(espaco_amostral)"
   ]
  },
  {
   "cell_type": "code",
   "execution_count": 8,
   "metadata": {},
   "outputs": [
    {
     "name": "stdout",
     "output_type": "stream",
     "text": [
      "Probabilidade de  ('S', 'S', 'S', 'S', 'S', 'S', 'S')  é igual a  0.00001\n",
      "Probabilidade de  ('S', 'S', 'S', 'S', 'S', 'S', 'F')  é igual a  0.00005\n",
      "Probabilidade de  ('S', 'S', 'S', 'S', 'S', 'F', 'S')  é igual a  0.00005\n",
      "Probabilidade de  ('S', 'S', 'S', 'S', 'S', 'F', 'F')  é igual a  0.00020\n",
      "Probabilidade de  ('S', 'S', 'S', 'S', 'F', 'S', 'S')  é igual a  0.00005\n",
      "Probabilidade de  ('S', 'S', 'S', 'S', 'F', 'S', 'F')  é igual a  0.00020\n",
      "Probabilidade de  ('S', 'S', 'S', 'S', 'F', 'F', 'S')  é igual a  0.00020\n",
      "Probabilidade de  ('S', 'S', 'S', 'S', 'F', 'F', 'F')  é igual a  0.00082\n",
      "Probabilidade de  ('S', 'S', 'S', 'F', 'S', 'S', 'S')  é igual a  0.00005\n",
      "Probabilidade de  ('S', 'S', 'S', 'F', 'S', 'S', 'F')  é igual a  0.00020\n",
      "Probabilidade de  ('S', 'S', 'S', 'F', 'S', 'F', 'S')  é igual a  0.00020\n",
      "Probabilidade de  ('S', 'S', 'S', 'F', 'S', 'F', 'F')  é igual a  0.00082\n",
      "Probabilidade de  ('S', 'S', 'S', 'F', 'F', 'S', 'S')  é igual a  0.00020\n",
      "Probabilidade de  ('S', 'S', 'S', 'F', 'F', 'S', 'F')  é igual a  0.00082\n",
      "Probabilidade de  ('S', 'S', 'S', 'F', 'F', 'F', 'S')  é igual a  0.00082\n",
      "Probabilidade de  ('S', 'S', 'S', 'F', 'F', 'F', 'F')  é igual a  0.00328\n",
      "Probabilidade de  ('S', 'S', 'F', 'S', 'S', 'S', 'S')  é igual a  0.00005\n",
      "Probabilidade de  ('S', 'S', 'F', 'S', 'S', 'S', 'F')  é igual a  0.00020\n",
      "Probabilidade de  ('S', 'S', 'F', 'S', 'S', 'F', 'S')  é igual a  0.00020\n",
      "Probabilidade de  ('S', 'S', 'F', 'S', 'S', 'F', 'F')  é igual a  0.00082\n",
      "Probabilidade de  ('S', 'S', 'F', 'S', 'F', 'S', 'S')  é igual a  0.00020\n",
      "Probabilidade de  ('S', 'S', 'F', 'S', 'F', 'S', 'F')  é igual a  0.00082\n",
      "Probabilidade de  ('S', 'S', 'F', 'S', 'F', 'F', 'S')  é igual a  0.00082\n",
      "Probabilidade de  ('S', 'S', 'F', 'S', 'F', 'F', 'F')  é igual a  0.00328\n",
      "Probabilidade de  ('S', 'S', 'F', 'F', 'S', 'S', 'S')  é igual a  0.00020\n",
      "Probabilidade de  ('S', 'S', 'F', 'F', 'S', 'S', 'F')  é igual a  0.00082\n",
      "Probabilidade de  ('S', 'S', 'F', 'F', 'S', 'F', 'S')  é igual a  0.00082\n",
      "Probabilidade de  ('S', 'S', 'F', 'F', 'S', 'F', 'F')  é igual a  0.00328\n",
      "Probabilidade de  ('S', 'S', 'F', 'F', 'F', 'S', 'S')  é igual a  0.00082\n",
      "Probabilidade de  ('S', 'S', 'F', 'F', 'F', 'S', 'F')  é igual a  0.00328\n",
      "Probabilidade de  ('S', 'S', 'F', 'F', 'F', 'F', 'S')  é igual a  0.00328\n",
      "Probabilidade de  ('S', 'S', 'F', 'F', 'F', 'F', 'F')  é igual a  0.01311\n",
      "Probabilidade de  ('S', 'F', 'S', 'S', 'S', 'S', 'S')  é igual a  0.00005\n",
      "Probabilidade de  ('S', 'F', 'S', 'S', 'S', 'S', 'F')  é igual a  0.00020\n",
      "Probabilidade de  ('S', 'F', 'S', 'S', 'S', 'F', 'S')  é igual a  0.00020\n",
      "Probabilidade de  ('S', 'F', 'S', 'S', 'S', 'F', 'F')  é igual a  0.00082\n",
      "Probabilidade de  ('S', 'F', 'S', 'S', 'F', 'S', 'S')  é igual a  0.00020\n",
      "Probabilidade de  ('S', 'F', 'S', 'S', 'F', 'S', 'F')  é igual a  0.00082\n",
      "Probabilidade de  ('S', 'F', 'S', 'S', 'F', 'F', 'S')  é igual a  0.00082\n",
      "Probabilidade de  ('S', 'F', 'S', 'S', 'F', 'F', 'F')  é igual a  0.00328\n",
      "Probabilidade de  ('S', 'F', 'S', 'F', 'S', 'S', 'S')  é igual a  0.00020\n",
      "Probabilidade de  ('S', 'F', 'S', 'F', 'S', 'S', 'F')  é igual a  0.00082\n",
      "Probabilidade de  ('S', 'F', 'S', 'F', 'S', 'F', 'S')  é igual a  0.00082\n",
      "Probabilidade de  ('S', 'F', 'S', 'F', 'S', 'F', 'F')  é igual a  0.00328\n",
      "Probabilidade de  ('S', 'F', 'S', 'F', 'F', 'S', 'S')  é igual a  0.00082\n",
      "Probabilidade de  ('S', 'F', 'S', 'F', 'F', 'S', 'F')  é igual a  0.00328\n",
      "Probabilidade de  ('S', 'F', 'S', 'F', 'F', 'F', 'S')  é igual a  0.00328\n",
      "Probabilidade de  ('S', 'F', 'S', 'F', 'F', 'F', 'F')  é igual a  0.01311\n",
      "Probabilidade de  ('S', 'F', 'F', 'S', 'S', 'S', 'S')  é igual a  0.00020\n",
      "Probabilidade de  ('S', 'F', 'F', 'S', 'S', 'S', 'F')  é igual a  0.00082\n",
      "Probabilidade de  ('S', 'F', 'F', 'S', 'S', 'F', 'S')  é igual a  0.00082\n",
      "Probabilidade de  ('S', 'F', 'F', 'S', 'S', 'F', 'F')  é igual a  0.00328\n",
      "Probabilidade de  ('S', 'F', 'F', 'S', 'F', 'S', 'S')  é igual a  0.00082\n",
      "Probabilidade de  ('S', 'F', 'F', 'S', 'F', 'S', 'F')  é igual a  0.00328\n",
      "Probabilidade de  ('S', 'F', 'F', 'S', 'F', 'F', 'S')  é igual a  0.00328\n",
      "Probabilidade de  ('S', 'F', 'F', 'S', 'F', 'F', 'F')  é igual a  0.01311\n",
      "Probabilidade de  ('S', 'F', 'F', 'F', 'S', 'S', 'S')  é igual a  0.00082\n",
      "Probabilidade de  ('S', 'F', 'F', 'F', 'S', 'S', 'F')  é igual a  0.00328\n",
      "Probabilidade de  ('S', 'F', 'F', 'F', 'S', 'F', 'S')  é igual a  0.00328\n",
      "Probabilidade de  ('S', 'F', 'F', 'F', 'S', 'F', 'F')  é igual a  0.01311\n",
      "Probabilidade de  ('S', 'F', 'F', 'F', 'F', 'S', 'S')  é igual a  0.00328\n",
      "Probabilidade de  ('S', 'F', 'F', 'F', 'F', 'S', 'F')  é igual a  0.01311\n",
      "Probabilidade de  ('S', 'F', 'F', 'F', 'F', 'F', 'S')  é igual a  0.01311\n",
      "Probabilidade de  ('S', 'F', 'F', 'F', 'F', 'F', 'F')  é igual a  0.05243\n",
      "Probabilidade de  ('F', 'S', 'S', 'S', 'S', 'S', 'S')  é igual a  0.00005\n",
      "Probabilidade de  ('F', 'S', 'S', 'S', 'S', 'S', 'F')  é igual a  0.00020\n",
      "Probabilidade de  ('F', 'S', 'S', 'S', 'S', 'F', 'S')  é igual a  0.00020\n",
      "Probabilidade de  ('F', 'S', 'S', 'S', 'S', 'F', 'F')  é igual a  0.00082\n",
      "Probabilidade de  ('F', 'S', 'S', 'S', 'F', 'S', 'S')  é igual a  0.00020\n",
      "Probabilidade de  ('F', 'S', 'S', 'S', 'F', 'S', 'F')  é igual a  0.00082\n",
      "Probabilidade de  ('F', 'S', 'S', 'S', 'F', 'F', 'S')  é igual a  0.00082\n",
      "Probabilidade de  ('F', 'S', 'S', 'S', 'F', 'F', 'F')  é igual a  0.00328\n",
      "Probabilidade de  ('F', 'S', 'S', 'F', 'S', 'S', 'S')  é igual a  0.00020\n",
      "Probabilidade de  ('F', 'S', 'S', 'F', 'S', 'S', 'F')  é igual a  0.00082\n",
      "Probabilidade de  ('F', 'S', 'S', 'F', 'S', 'F', 'S')  é igual a  0.00082\n",
      "Probabilidade de  ('F', 'S', 'S', 'F', 'S', 'F', 'F')  é igual a  0.00328\n",
      "Probabilidade de  ('F', 'S', 'S', 'F', 'F', 'S', 'S')  é igual a  0.00082\n",
      "Probabilidade de  ('F', 'S', 'S', 'F', 'F', 'S', 'F')  é igual a  0.00328\n",
      "Probabilidade de  ('F', 'S', 'S', 'F', 'F', 'F', 'S')  é igual a  0.00328\n",
      "Probabilidade de  ('F', 'S', 'S', 'F', 'F', 'F', 'F')  é igual a  0.01311\n",
      "Probabilidade de  ('F', 'S', 'F', 'S', 'S', 'S', 'S')  é igual a  0.00020\n",
      "Probabilidade de  ('F', 'S', 'F', 'S', 'S', 'S', 'F')  é igual a  0.00082\n",
      "Probabilidade de  ('F', 'S', 'F', 'S', 'S', 'F', 'S')  é igual a  0.00082\n",
      "Probabilidade de  ('F', 'S', 'F', 'S', 'S', 'F', 'F')  é igual a  0.00328\n",
      "Probabilidade de  ('F', 'S', 'F', 'S', 'F', 'S', 'S')  é igual a  0.00082\n",
      "Probabilidade de  ('F', 'S', 'F', 'S', 'F', 'S', 'F')  é igual a  0.00328\n",
      "Probabilidade de  ('F', 'S', 'F', 'S', 'F', 'F', 'S')  é igual a  0.00328\n",
      "Probabilidade de  ('F', 'S', 'F', 'S', 'F', 'F', 'F')  é igual a  0.01311\n",
      "Probabilidade de  ('F', 'S', 'F', 'F', 'S', 'S', 'S')  é igual a  0.00082\n",
      "Probabilidade de  ('F', 'S', 'F', 'F', 'S', 'S', 'F')  é igual a  0.00328\n",
      "Probabilidade de  ('F', 'S', 'F', 'F', 'S', 'F', 'S')  é igual a  0.00328\n",
      "Probabilidade de  ('F', 'S', 'F', 'F', 'S', 'F', 'F')  é igual a  0.01311\n",
      "Probabilidade de  ('F', 'S', 'F', 'F', 'F', 'S', 'S')  é igual a  0.00328\n",
      "Probabilidade de  ('F', 'S', 'F', 'F', 'F', 'S', 'F')  é igual a  0.01311\n",
      "Probabilidade de  ('F', 'S', 'F', 'F', 'F', 'F', 'S')  é igual a  0.01311\n",
      "Probabilidade de  ('F', 'S', 'F', 'F', 'F', 'F', 'F')  é igual a  0.05243\n",
      "Probabilidade de  ('F', 'F', 'S', 'S', 'S', 'S', 'S')  é igual a  0.00020\n",
      "Probabilidade de  ('F', 'F', 'S', 'S', 'S', 'S', 'F')  é igual a  0.00082\n",
      "Probabilidade de  ('F', 'F', 'S', 'S', 'S', 'F', 'S')  é igual a  0.00082\n",
      "Probabilidade de  ('F', 'F', 'S', 'S', 'S', 'F', 'F')  é igual a  0.00328\n",
      "Probabilidade de  ('F', 'F', 'S', 'S', 'F', 'S', 'S')  é igual a  0.00082\n",
      "Probabilidade de  ('F', 'F', 'S', 'S', 'F', 'S', 'F')  é igual a  0.00328\n",
      "Probabilidade de  ('F', 'F', 'S', 'S', 'F', 'F', 'S')  é igual a  0.00328\n",
      "Probabilidade de  ('F', 'F', 'S', 'S', 'F', 'F', 'F')  é igual a  0.01311\n",
      "Probabilidade de  ('F', 'F', 'S', 'F', 'S', 'S', 'S')  é igual a  0.00082\n",
      "Probabilidade de  ('F', 'F', 'S', 'F', 'S', 'S', 'F')  é igual a  0.00328\n",
      "Probabilidade de  ('F', 'F', 'S', 'F', 'S', 'F', 'S')  é igual a  0.00328\n",
      "Probabilidade de  ('F', 'F', 'S', 'F', 'S', 'F', 'F')  é igual a  0.01311\n",
      "Probabilidade de  ('F', 'F', 'S', 'F', 'F', 'S', 'S')  é igual a  0.00328\n",
      "Probabilidade de  ('F', 'F', 'S', 'F', 'F', 'S', 'F')  é igual a  0.01311\n",
      "Probabilidade de  ('F', 'F', 'S', 'F', 'F', 'F', 'S')  é igual a  0.01311\n",
      "Probabilidade de  ('F', 'F', 'S', 'F', 'F', 'F', 'F')  é igual a  0.05243\n",
      "Probabilidade de  ('F', 'F', 'F', 'S', 'S', 'S', 'S')  é igual a  0.00082\n",
      "Probabilidade de  ('F', 'F', 'F', 'S', 'S', 'S', 'F')  é igual a  0.00328\n",
      "Probabilidade de  ('F', 'F', 'F', 'S', 'S', 'F', 'S')  é igual a  0.00328\n",
      "Probabilidade de  ('F', 'F', 'F', 'S', 'S', 'F', 'F')  é igual a  0.01311\n",
      "Probabilidade de  ('F', 'F', 'F', 'S', 'F', 'S', 'S')  é igual a  0.00328\n",
      "Probabilidade de  ('F', 'F', 'F', 'S', 'F', 'S', 'F')  é igual a  0.01311\n",
      "Probabilidade de  ('F', 'F', 'F', 'S', 'F', 'F', 'S')  é igual a  0.01311\n",
      "Probabilidade de  ('F', 'F', 'F', 'S', 'F', 'F', 'F')  é igual a  0.05243\n",
      "Probabilidade de  ('F', 'F', 'F', 'F', 'S', 'S', 'S')  é igual a  0.00328\n",
      "Probabilidade de  ('F', 'F', 'F', 'F', 'S', 'S', 'F')  é igual a  0.01311\n",
      "Probabilidade de  ('F', 'F', 'F', 'F', 'S', 'F', 'S')  é igual a  0.01311\n",
      "Probabilidade de  ('F', 'F', 'F', 'F', 'S', 'F', 'F')  é igual a  0.05243\n",
      "Probabilidade de  ('F', 'F', 'F', 'F', 'F', 'S', 'S')  é igual a  0.01311\n",
      "Probabilidade de  ('F', 'F', 'F', 'F', 'F', 'S', 'F')  é igual a  0.05243\n",
      "Probabilidade de  ('F', 'F', 'F', 'F', 'F', 'F', 'S')  é igual a  0.05243\n",
      "Probabilidade de  ('F', 'F', 'F', 'F', 'F', 'F', 'F')  é igual a  0.20972\n"
     ]
    }
   ],
   "source": [
    "# item 2\n",
    "prob_linhas = []\n",
    "\n",
    "for res in espaco_amostral:\n",
    "    p = 1.0\n",
    "    for e in res:\n",
    "        p*=prob[e]\n",
    "    prob_linhas.append(p)\n",
    "    print(\"Probabilidade de \",res,\" é igual a \",\"%3.5f\"%p)"
   ]
  },
  {
   "cell_type": "code",
   "execution_count": 9,
   "metadata": {},
   "outputs": [
    {
     "name": "stdout",
     "output_type": "stream",
     "text": [
      "1.00000\n"
     ]
    }
   ],
   "source": [
    "#item 2\n",
    "print(\"%3.5f\"%sum(prob_linhas))"
   ]
  },
  {
   "cell_type": "code",
   "execution_count": 10,
   "metadata": {},
   "outputs": [
    {
     "name": "stdout",
     "output_type": "stream",
     "text": [
      "0.021545262708771978\n"
     ]
    }
   ],
   "source": [
    "#item 1 Média e Desvio Padrão4\n",
    "\n",
    "prob_media = float(\"%3.5f\"%sum(prob_linhas))/len(prob_linhas)\n",
    "var = 0\n",
    "for i in prob_linhas:\n",
    "    var += (i - prob_media)**2\n",
    "var = var/len(prob_linhas)\n",
    "dp = var**(1/2)\n",
    "print(dp)"
   ]
  },
  {
   "cell_type": "code",
   "execution_count": 11,
   "metadata": {},
   "outputs": [
    {
     "name": "stdout",
     "output_type": "stream",
     "text": [
      "0.35000000000000003\n",
      "0.3325\n",
      "1.5607979451434157\n",
      "2.150375939849624\n"
     ]
    }
   ],
   "source": [
    "# item 2\n",
    "p = 0.05\n",
    "mean, var, assimetria, kurtose = binom.stats(n, p, moments='mvsk')\n",
    "print(mean)\n",
    "print(var)\n",
    "print(assimetria)\n",
    "print(kurtose)"
   ]
  },
  {
   "cell_type": "code",
   "execution_count": 12,
   "metadata": {
    "collapsed": true
   },
   "outputs": [],
   "source": [
    "def tudo_junto(n,p):\n",
    "    mean, var, assimetria, kurtose = binom.stats(n, p, moments='mvsk')\n",
    "    print(mean)\n",
    "    print(var)\n",
    "    print(assimetria)\n",
    "    print(kurtose)"
   ]
  },
  {
   "cell_type": "code",
   "execution_count": 13,
   "metadata": {},
   "outputs": [
    {
     "name": "stdout",
     "output_type": "stream",
     "text": [
      "5.0\n",
      "4.75\n",
      "0.4129483209670111\n",
      "0.15052631578947367\n"
     ]
    }
   ],
   "source": [
    "n = 100\n",
    "p = 0.05\n",
    "tudo_junto(n,p)"
   ]
  },
  {
   "cell_type": "code",
   "execution_count": null,
   "metadata": {
    "collapsed": true
   },
   "outputs": [],
   "source": []
  },
  {
   "cell_type": "code",
   "execution_count": null,
   "metadata": {
    "collapsed": true
   },
   "outputs": [],
   "source": []
  },
  {
   "cell_type": "markdown",
   "metadata": {
    "collapsed": true
   },
   "source": [
    "___\n",
    "## <font color='blue'>Exercício 2</font>\n",
    "\n",
    "### <font color='red'>**Publicar no github até dia 21/03 INDIVIDUAL **</font>\n",
    "\n",
    "Esse exercício irá explorar modelos de distribuição de Poisson.\n",
    "\n",
    "Uma fábrica produz determinado veículo. O gerente de vendas fechou um negócio que implica na produção de pelo menos 110 unidades nos próximos dois meses. Para isso, será construída uma nova linha de montagem com capacidade para produzir em média 50 veículos por mês (considere meses de 30 dias). A linha funcionará ininterruptamente. Além disso, apenas um veículo é produzido por vez. Considere que um modelo Poisson seja adequado para a quantidade de veículos produzidos.\n",
    "   1. Qual a probabilidade  da produção ser igual a 100 veículos nos próximos dois meses?\n",
    "   2. Qual a probabilidade  da produção ser de pelo menos 100 veículos nos próximos dois meses?\n",
    "   3. Qual a probabilidade da produção ser entre 100 e 110 veículos nos próximos dois meses?\n",
    "   4. Se forem produzidos de pelo menos 100 veículos no próximo mês, qual a probabilidade do gerente cumprir a meta negociada?\n",
    "   5. Caso o prazo seja cumprido, o lucro será da ordem de $250$ mil, caso não seja, o lucro cai para $200$ mil. Qual é o lucro esperado e seu desvio-padrão?\n",
    "\n",
    "**Observação:** Explore os comandos de `stats.poisson`. <sup>[http://docs.scipy.org/doc/scipy/reference/generated/scipy.stats.poisson.html]\n"
   ]
  },
  {
   "cell_type": "code",
   "execution_count": null,
   "metadata": {
    "collapsed": true
   },
   "outputs": [],
   "source": []
  }
 ],
 "metadata": {
  "anaconda-cloud": {},
  "kernelspec": {
   "display_name": "Python 3",
   "language": "python",
   "name": "python3"
  },
  "language_info": {
   "codemirror_mode": {
    "name": "ipython",
    "version": 3
   },
   "file_extension": ".py",
   "mimetype": "text/x-python",
   "name": "python",
   "nbconvert_exporter": "python",
   "pygments_lexer": "ipython3",
   "version": "3.6.3"
  }
 },
 "nbformat": 4,
 "nbformat_minor": 1
}
